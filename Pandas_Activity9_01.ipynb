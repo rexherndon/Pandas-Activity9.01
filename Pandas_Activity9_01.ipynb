{
  "nbformat": 4,
  "nbformat_minor": 0,
  "metadata": {
    "colab": {
      "provenance": []
    },
    "kernelspec": {
      "name": "python3",
      "display_name": "Python 3"
    },
    "language_info": {
      "name": "python"
    }
  },
  "cells": [
    {
      "cell_type": "markdown",
      "source": [
        "# **Activity 9.01 – Data splitting, scaling, and modeling**"
      ],
      "metadata": {
        "id": "1cV1x-HuzJZ3"
      }
    },
    {
      "cell_type": "markdown",
      "source": [
        "1. For this activity, all you will need is the Pandas library, the modules from\n",
        "sklearn, and numpy. Load them in the first cell of the notebook.\n",
        "2. Use the power_plant.csv dataset – 'Datasets\\\\power_plant.csv'. Read\n",
        "the data into a Pandas DataFrame, print out the shape, and list the first five rows.\n",
        "The independent variables are as follows:\n",
        " AT – ambient temperature\n",
        " V – exhaust vacuum level\n",
        " AP – ambient pressure\n",
        " RH – relative humidity\n",
        "The dependent variable is EP – electrical power produced.\n",
        "3. Split the data into a train, val, and test set with fractions of 0.8, 0.1, and 0.1\n",
        "respectively, using Python and Pandas but not sklearn methods. You will use 0.8 for the train split because there is a large number of rows, so the validation and\n",
        "test splits will still have enough rows.\n",
        "4. Repeat the split in step 3 but use train_test_split. Call it once to split the\n",
        "train data, and then call it again to split what remains into val and test.\n",
        "5. Ensure that the row counts are correct in all cases.\n",
        "6. Fit .StandardScaler() to the train data from step 3, and then transform train,\n",
        "validation, and test X. Do not transform the EP column, as it is the target.\n",
        "7. Fit a .LinearRegression() model to the scaled train data, using the X\n",
        "variables to predict y (the EP column).\n",
        "8. Print the R2 score and the RMSE of the model on the train, validation, and\n",
        "test datasets.\n"
      ],
      "metadata": {
        "id": "MBRRtOSqzOG4"
      }
    },
    {
      "cell_type": "code",
      "execution_count": 1,
      "metadata": {
        "colab": {
          "base_uri": "https://localhost:8080/"
        },
        "id": "CV62D2vFzCLb",
        "outputId": "e81dea7c-d07a-469d-f92b-982d851aec93"
      },
      "outputs": [
        {
          "output_type": "stream",
          "name": "stdout",
          "text": [
            "--2023-07-10 00:01:39--  https://raw.githubusercontent.com/PacktWorkshops/The-Pandas-Workshop/master/Chapter09/Datasets/power_plant.csv\n",
            "Resolving raw.githubusercontent.com (raw.githubusercontent.com)... 185.199.108.133, 185.199.109.133, 185.199.110.133, ...\n",
            "Connecting to raw.githubusercontent.com (raw.githubusercontent.com)|185.199.108.133|:443... connected.\n",
            "HTTP request sent, awaiting response... 200 OK\n",
            "Length: 308694 (301K) [text/plain]\n",
            "Saving to: ‘power_plant.csv’\n",
            "\n",
            "power_plant.csv     100%[===================>] 301.46K  --.-KB/s    in 0.03s   \n",
            "\n",
            "2023-07-10 00:01:39 (11.4 MB/s) - ‘power_plant.csv’ saved [308694/308694]\n",
            "\n"
          ]
        }
      ],
      "source": [
        "!wget https://raw.githubusercontent.com/PacktWorkshops/The-Pandas-Workshop/master/Chapter09/Datasets/power_plant.csv"
      ]
    },
    {
      "cell_type": "markdown",
      "source": [
        "1. For this activity, all you will need is the Pandas library, the modules from sklearn, and numpy. Load them in the first cell of the notebook."
      ],
      "metadata": {
        "id": "KR8l_0m019L0"
      }
    },
    {
      "cell_type": "code",
      "source": [
        "import pandas as pd\n",
        "import numpy as np\n",
        "from sklearn.model_selection import train_test_split\n",
        "from sklearn.preprocessing import StandardScaler\n",
        "from sklearn.linear_model import LinearRegression as OLS\n",
        "from sklearn.metrics import mean_squared_error"
      ],
      "metadata": {
        "id": "q7xTeNXxzkIf"
      },
      "execution_count": 2,
      "outputs": []
    },
    {
      "cell_type": "markdown",
      "source": [
        "2. Use the power_plant.csv dataset – 'Datasets\\power_plant.csv'. Read the data into a Pandas DataFrame, print out the shape, and list the first five rows. The independent variables are as follows: AT – ambient temperature V – exhaust vacuum level AP – ambient pressure RH – relative humidity The dependent variable is EP – electrical power produced."
      ],
      "metadata": {
        "id": "C6eOBsM2120h"
      }
    },
    {
      "cell_type": "code",
      "source": [
        "df = pd.read_csv('power_plant.csv')\n",
        "df.shape"
      ],
      "metadata": {
        "colab": {
          "base_uri": "https://localhost:8080/"
        },
        "id": "3GeFrN6O0ORM",
        "outputId": "b8b3e5a8-426a-4ab7-9d78-636cfe75dd92"
      },
      "execution_count": 3,
      "outputs": [
        {
          "output_type": "execute_result",
          "data": {
            "text/plain": [
              "(9568, 5)"
            ]
          },
          "metadata": {},
          "execution_count": 3
        }
      ]
    },
    {
      "cell_type": "code",
      "source": [
        "df.head()"
      ],
      "metadata": {
        "colab": {
          "base_uri": "https://localhost:8080/",
          "height": 206
        },
        "id": "f8cb5YCT2KEC",
        "outputId": "3f814d89-4660-4837-ea15-da9d8bd53f7e"
      },
      "execution_count": 4,
      "outputs": [
        {
          "output_type": "execute_result",
          "data": {
            "text/plain": [
              "      AT      V       AP     RH      EP\n",
              "0   8.34  40.77  1010.84  90.01  480.48\n",
              "1  23.64  58.49  1011.40  74.20  445.75\n",
              "2  29.74  56.90  1007.15  41.91  438.76\n",
              "3  19.07  49.69  1007.22  76.79  453.09\n",
              "4  11.80  40.66  1017.13  97.20  464.43"
            ],
            "text/html": [
              "\n",
              "  <div id=\"df-0adfc378-3290-49d9-a45f-ef299776da45\">\n",
              "    <div class=\"colab-df-container\">\n",
              "      <div>\n",
              "<style scoped>\n",
              "    .dataframe tbody tr th:only-of-type {\n",
              "        vertical-align: middle;\n",
              "    }\n",
              "\n",
              "    .dataframe tbody tr th {\n",
              "        vertical-align: top;\n",
              "    }\n",
              "\n",
              "    .dataframe thead th {\n",
              "        text-align: right;\n",
              "    }\n",
              "</style>\n",
              "<table border=\"1\" class=\"dataframe\">\n",
              "  <thead>\n",
              "    <tr style=\"text-align: right;\">\n",
              "      <th></th>\n",
              "      <th>AT</th>\n",
              "      <th>V</th>\n",
              "      <th>AP</th>\n",
              "      <th>RH</th>\n",
              "      <th>EP</th>\n",
              "    </tr>\n",
              "  </thead>\n",
              "  <tbody>\n",
              "    <tr>\n",
              "      <th>0</th>\n",
              "      <td>8.34</td>\n",
              "      <td>40.77</td>\n",
              "      <td>1010.84</td>\n",
              "      <td>90.01</td>\n",
              "      <td>480.48</td>\n",
              "    </tr>\n",
              "    <tr>\n",
              "      <th>1</th>\n",
              "      <td>23.64</td>\n",
              "      <td>58.49</td>\n",
              "      <td>1011.40</td>\n",
              "      <td>74.20</td>\n",
              "      <td>445.75</td>\n",
              "    </tr>\n",
              "    <tr>\n",
              "      <th>2</th>\n",
              "      <td>29.74</td>\n",
              "      <td>56.90</td>\n",
              "      <td>1007.15</td>\n",
              "      <td>41.91</td>\n",
              "      <td>438.76</td>\n",
              "    </tr>\n",
              "    <tr>\n",
              "      <th>3</th>\n",
              "      <td>19.07</td>\n",
              "      <td>49.69</td>\n",
              "      <td>1007.22</td>\n",
              "      <td>76.79</td>\n",
              "      <td>453.09</td>\n",
              "    </tr>\n",
              "    <tr>\n",
              "      <th>4</th>\n",
              "      <td>11.80</td>\n",
              "      <td>40.66</td>\n",
              "      <td>1017.13</td>\n",
              "      <td>97.20</td>\n",
              "      <td>464.43</td>\n",
              "    </tr>\n",
              "  </tbody>\n",
              "</table>\n",
              "</div>\n",
              "      <button class=\"colab-df-convert\" onclick=\"convertToInteractive('df-0adfc378-3290-49d9-a45f-ef299776da45')\"\n",
              "              title=\"Convert this dataframe to an interactive table.\"\n",
              "              style=\"display:none;\">\n",
              "        \n",
              "  <svg xmlns=\"http://www.w3.org/2000/svg\" height=\"24px\"viewBox=\"0 0 24 24\"\n",
              "       width=\"24px\">\n",
              "    <path d=\"M0 0h24v24H0V0z\" fill=\"none\"/>\n",
              "    <path d=\"M18.56 5.44l.94 2.06.94-2.06 2.06-.94-2.06-.94-.94-2.06-.94 2.06-2.06.94zm-11 1L8.5 8.5l.94-2.06 2.06-.94-2.06-.94L8.5 2.5l-.94 2.06-2.06.94zm10 10l.94 2.06.94-2.06 2.06-.94-2.06-.94-.94-2.06-.94 2.06-2.06.94z\"/><path d=\"M17.41 7.96l-1.37-1.37c-.4-.4-.92-.59-1.43-.59-.52 0-1.04.2-1.43.59L10.3 9.45l-7.72 7.72c-.78.78-.78 2.05 0 2.83L4 21.41c.39.39.9.59 1.41.59.51 0 1.02-.2 1.41-.59l7.78-7.78 2.81-2.81c.8-.78.8-2.07 0-2.86zM5.41 20L4 18.59l7.72-7.72 1.47 1.35L5.41 20z\"/>\n",
              "  </svg>\n",
              "      </button>\n",
              "      \n",
              "  <style>\n",
              "    .colab-df-container {\n",
              "      display:flex;\n",
              "      flex-wrap:wrap;\n",
              "      gap: 12px;\n",
              "    }\n",
              "\n",
              "    .colab-df-convert {\n",
              "      background-color: #E8F0FE;\n",
              "      border: none;\n",
              "      border-radius: 50%;\n",
              "      cursor: pointer;\n",
              "      display: none;\n",
              "      fill: #1967D2;\n",
              "      height: 32px;\n",
              "      padding: 0 0 0 0;\n",
              "      width: 32px;\n",
              "    }\n",
              "\n",
              "    .colab-df-convert:hover {\n",
              "      background-color: #E2EBFA;\n",
              "      box-shadow: 0px 1px 2px rgba(60, 64, 67, 0.3), 0px 1px 3px 1px rgba(60, 64, 67, 0.15);\n",
              "      fill: #174EA6;\n",
              "    }\n",
              "\n",
              "    [theme=dark] .colab-df-convert {\n",
              "      background-color: #3B4455;\n",
              "      fill: #D2E3FC;\n",
              "    }\n",
              "\n",
              "    [theme=dark] .colab-df-convert:hover {\n",
              "      background-color: #434B5C;\n",
              "      box-shadow: 0px 1px 3px 1px rgba(0, 0, 0, 0.15);\n",
              "      filter: drop-shadow(0px 1px 2px rgba(0, 0, 0, 0.3));\n",
              "      fill: #FFFFFF;\n",
              "    }\n",
              "  </style>\n",
              "\n",
              "      <script>\n",
              "        const buttonEl =\n",
              "          document.querySelector('#df-0adfc378-3290-49d9-a45f-ef299776da45 button.colab-df-convert');\n",
              "        buttonEl.style.display =\n",
              "          google.colab.kernel.accessAllowed ? 'block' : 'none';\n",
              "\n",
              "        async function convertToInteractive(key) {\n",
              "          const element = document.querySelector('#df-0adfc378-3290-49d9-a45f-ef299776da45');\n",
              "          const dataTable =\n",
              "            await google.colab.kernel.invokeFunction('convertToInteractive',\n",
              "                                                     [key], {});\n",
              "          if (!dataTable) return;\n",
              "\n",
              "          const docLinkHtml = 'Like what you see? Visit the ' +\n",
              "            '<a target=\"_blank\" href=https://colab.research.google.com/notebooks/data_table.ipynb>data table notebook</a>'\n",
              "            + ' to learn more about interactive tables.';\n",
              "          element.innerHTML = '';\n",
              "          dataTable['output_type'] = 'display_data';\n",
              "          await google.colab.output.renderOutput(dataTable, element);\n",
              "          const docLink = document.createElement('div');\n",
              "          docLink.innerHTML = docLinkHtml;\n",
              "          element.appendChild(docLink);\n",
              "        }\n",
              "      </script>\n",
              "    </div>\n",
              "  </div>\n",
              "  "
            ]
          },
          "metadata": {},
          "execution_count": 4
        }
      ]
    },
    {
      "cell_type": "markdown",
      "source": [
        "3. Split the data into a train, val, and test set with fractions of 0.8, 0.1, and 0.1 respectively, using Python and Pandas but not sklearn methods. You will use 0.8 for the train split because there is a large number of rows, so the validation and test splits will still have enough rows."
      ],
      "metadata": {
        "id": "IbgWcrPX2V3T"
      }
    },
    {
      "cell_type": "code",
      "source": [
        "np.random.seed(42)\n",
        "\n",
        "train_rows = pd.Series(np.random.choice(list\n",
        "    (df.index),\n",
        "    int(0.8 * df.shape[0]),\n",
        "    replace = False\n",
        "))\n",
        "\n",
        "val_rows = pd.Series(np.random.choice(\n",
        "    list(df.drop(train_rows, axis = 0).index),\n",
        "    int(0.1 * df.shape[0]),\n",
        "        replace = False)\n",
        ")\n",
        "\n",
        "test_rows = pd.Series(df.drop(pd.concat([train_rows, val_rows]), axis = 0).index)\n",
        "\n",
        "train_data = df.iloc[train_rows, :]\n",
        "val_data = df.iloc[val_rows, :]\n",
        "test_data = df.iloc[test_rows, :]\n",
        "\n",
        "print('Train shape = ', train_data.shape, '\\n'\n",
        "      'Val shape = ', val_data.shape, '\\n'\n",
        "      'Test shape = ', test_data.shape)\n"
      ],
      "metadata": {
        "colab": {
          "base_uri": "https://localhost:8080/"
        },
        "id": "BoVuIGr_2MK7",
        "outputId": "5931593c-3ee4-45c4-de44-11794014ab14"
      },
      "execution_count": 5,
      "outputs": [
        {
          "output_type": "stream",
          "name": "stdout",
          "text": [
            "Train shape =  (7654, 5) \n",
            "Val shape =  (956, 5) \n",
            "Test shape =  (958, 5)\n"
          ]
        }
      ]
    },
    {
      "cell_type": "markdown",
      "source": [
        "4. Repeat the split in step 3 but use train_test_split. Call it once to split the train data, and then call it again to split what remains into val and test."
      ],
      "metadata": {
        "id": "6NQyKBc47p7s"
      }
    },
    {
      "cell_type": "code",
      "source": [
        "train_data_2, val_data_2 = \\\n",
        "  train_test_split(df, train_size=0.8, random_state = 42)\n",
        "val_data_2, test_data_2 = \\\n",
        "  train_test_split(val_data_2, test_size = 0.5, random_state = 42)\n",
        "\n",
        "print('Train shape = ', train_data_2.shape, '\\n'\n",
        "      'Val shape = ', val_data_2.shape, '\\n'\n",
        "      'Test shape = ', test_data_2.shape)\n"
      ],
      "metadata": {
        "colab": {
          "base_uri": "https://localhost:8080/"
        },
        "id": "Khkqthtp3Uzo",
        "outputId": "cdec77d5-5e44-436f-b664-86cc14f28287"
      },
      "execution_count": 6,
      "outputs": [
        {
          "output_type": "stream",
          "name": "stdout",
          "text": [
            "Train shape =  (7654, 5) \n",
            "Val shape =  (957, 5) \n",
            "Test shape =  (957, 5)\n"
          ]
        }
      ]
    },
    {
      "cell_type": "markdown",
      "source": [
        "5. Ensure that the row counts are correct in all cases."
      ],
      "metadata": {
        "id": "KGsWu__v8cyZ"
      }
    },
    {
      "cell_type": "code",
      "source": [
        "print(sum([train_data, val_data, test_data]))\n",
        "print(sum([train_data_2, val_data_2, test_data_2]))\n",
        "print(df.shape)"
      ],
      "metadata": {
        "colab": {
          "base_uri": "https://localhost:8080/"
        },
        "id": "UmvzHfAv8SWJ",
        "outputId": "8f6a0610-cd00-48eb-f298-104528e5486c"
      },
      "execution_count": 7,
      "outputs": [
        {
          "output_type": "stream",
          "name": "stdout",
          "text": [
            "      AT   V  AP  RH  EP\n",
            "0    NaN NaN NaN NaN NaN\n",
            "1    NaN NaN NaN NaN NaN\n",
            "2    NaN NaN NaN NaN NaN\n",
            "3    NaN NaN NaN NaN NaN\n",
            "4    NaN NaN NaN NaN NaN\n",
            "...   ..  ..  ..  ..  ..\n",
            "9563 NaN NaN NaN NaN NaN\n",
            "9564 NaN NaN NaN NaN NaN\n",
            "9565 NaN NaN NaN NaN NaN\n",
            "9566 NaN NaN NaN NaN NaN\n",
            "9567 NaN NaN NaN NaN NaN\n",
            "\n",
            "[9568 rows x 5 columns]\n",
            "      AT   V  AP  RH  EP\n",
            "0    NaN NaN NaN NaN NaN\n",
            "1    NaN NaN NaN NaN NaN\n",
            "2    NaN NaN NaN NaN NaN\n",
            "3    NaN NaN NaN NaN NaN\n",
            "4    NaN NaN NaN NaN NaN\n",
            "...   ..  ..  ..  ..  ..\n",
            "9563 NaN NaN NaN NaN NaN\n",
            "9564 NaN NaN NaN NaN NaN\n",
            "9565 NaN NaN NaN NaN NaN\n",
            "9566 NaN NaN NaN NaN NaN\n",
            "9567 NaN NaN NaN NaN NaN\n",
            "\n",
            "[9568 rows x 5 columns]\n",
            "(9568, 5)\n"
          ]
        }
      ]
    },
    {
      "cell_type": "markdown",
      "source": [
        "6. Fit .StandardScaler() to the train data from step 3, and then transform train, validation, and test X. Do not transform the EP column, as it is the target."
      ],
      "metadata": {
        "id": "Aw8K0Usz9b97"
      }
    },
    {
      "cell_type": "code",
      "source": [
        "scaler = StandardScaler()\n",
        "scaler.fit(train_data.iloc[:, :-1])\n",
        "\n",
        "train_X = scaler.transform(train_data.iloc[:, :-1])\n",
        "train_y = train_data['EP']\n",
        "\n",
        "val_X = scaler.transform(val_data.iloc[:, :-1])\n",
        "val_y = val_data['EP']\n",
        "\n",
        "test_X = scaler.transform(test_data.iloc[:, :-1])\n",
        "test_y = test_data['EP']"
      ],
      "metadata": {
        "id": "wUXbViWq8nAG"
      },
      "execution_count": 8,
      "outputs": []
    },
    {
      "cell_type": "markdown",
      "source": [
        "7. Fit a .LinearRegression() model to the scaled train data, using the X variables to predict y (the EP column)."
      ],
      "metadata": {
        "id": "h50oDfwf-tLw"
      }
    },
    {
      "cell_type": "code",
      "source": [
        "linear_model = OLS()\n",
        "linear_model.fit(train_X, train_y)\n",
        "linear_model"
      ],
      "metadata": {
        "colab": {
          "base_uri": "https://localhost:8080/",
          "height": 75
        },
        "id": "6Y7narx09pIj",
        "outputId": "4a887191-f81b-46b0-9adc-a6e72589c14c"
      },
      "execution_count": 9,
      "outputs": [
        {
          "output_type": "execute_result",
          "data": {
            "text/plain": [
              "LinearRegression()"
            ],
            "text/html": [
              "<style>#sk-container-id-1 {color: black;background-color: white;}#sk-container-id-1 pre{padding: 0;}#sk-container-id-1 div.sk-toggleable {background-color: white;}#sk-container-id-1 label.sk-toggleable__label {cursor: pointer;display: block;width: 100%;margin-bottom: 0;padding: 0.3em;box-sizing: border-box;text-align: center;}#sk-container-id-1 label.sk-toggleable__label-arrow:before {content: \"▸\";float: left;margin-right: 0.25em;color: #696969;}#sk-container-id-1 label.sk-toggleable__label-arrow:hover:before {color: black;}#sk-container-id-1 div.sk-estimator:hover label.sk-toggleable__label-arrow:before {color: black;}#sk-container-id-1 div.sk-toggleable__content {max-height: 0;max-width: 0;overflow: hidden;text-align: left;background-color: #f0f8ff;}#sk-container-id-1 div.sk-toggleable__content pre {margin: 0.2em;color: black;border-radius: 0.25em;background-color: #f0f8ff;}#sk-container-id-1 input.sk-toggleable__control:checked~div.sk-toggleable__content {max-height: 200px;max-width: 100%;overflow: auto;}#sk-container-id-1 input.sk-toggleable__control:checked~label.sk-toggleable__label-arrow:before {content: \"▾\";}#sk-container-id-1 div.sk-estimator input.sk-toggleable__control:checked~label.sk-toggleable__label {background-color: #d4ebff;}#sk-container-id-1 div.sk-label input.sk-toggleable__control:checked~label.sk-toggleable__label {background-color: #d4ebff;}#sk-container-id-1 input.sk-hidden--visually {border: 0;clip: rect(1px 1px 1px 1px);clip: rect(1px, 1px, 1px, 1px);height: 1px;margin: -1px;overflow: hidden;padding: 0;position: absolute;width: 1px;}#sk-container-id-1 div.sk-estimator {font-family: monospace;background-color: #f0f8ff;border: 1px dotted black;border-radius: 0.25em;box-sizing: border-box;margin-bottom: 0.5em;}#sk-container-id-1 div.sk-estimator:hover {background-color: #d4ebff;}#sk-container-id-1 div.sk-parallel-item::after {content: \"\";width: 100%;border-bottom: 1px solid gray;flex-grow: 1;}#sk-container-id-1 div.sk-label:hover label.sk-toggleable__label {background-color: #d4ebff;}#sk-container-id-1 div.sk-serial::before {content: \"\";position: absolute;border-left: 1px solid gray;box-sizing: border-box;top: 0;bottom: 0;left: 50%;z-index: 0;}#sk-container-id-1 div.sk-serial {display: flex;flex-direction: column;align-items: center;background-color: white;padding-right: 0.2em;padding-left: 0.2em;position: relative;}#sk-container-id-1 div.sk-item {position: relative;z-index: 1;}#sk-container-id-1 div.sk-parallel {display: flex;align-items: stretch;justify-content: center;background-color: white;position: relative;}#sk-container-id-1 div.sk-item::before, #sk-container-id-1 div.sk-parallel-item::before {content: \"\";position: absolute;border-left: 1px solid gray;box-sizing: border-box;top: 0;bottom: 0;left: 50%;z-index: -1;}#sk-container-id-1 div.sk-parallel-item {display: flex;flex-direction: column;z-index: 1;position: relative;background-color: white;}#sk-container-id-1 div.sk-parallel-item:first-child::after {align-self: flex-end;width: 50%;}#sk-container-id-1 div.sk-parallel-item:last-child::after {align-self: flex-start;width: 50%;}#sk-container-id-1 div.sk-parallel-item:only-child::after {width: 0;}#sk-container-id-1 div.sk-dashed-wrapped {border: 1px dashed gray;margin: 0 0.4em 0.5em 0.4em;box-sizing: border-box;padding-bottom: 0.4em;background-color: white;}#sk-container-id-1 div.sk-label label {font-family: monospace;font-weight: bold;display: inline-block;line-height: 1.2em;}#sk-container-id-1 div.sk-label-container {text-align: center;}#sk-container-id-1 div.sk-container {/* jupyter's `normalize.less` sets `[hidden] { display: none; }` but bootstrap.min.css set `[hidden] { display: none !important; }` so we also need the `!important` here to be able to override the default hidden behavior on the sphinx rendered scikit-learn.org. See: https://github.com/scikit-learn/scikit-learn/issues/21755 */display: inline-block !important;position: relative;}#sk-container-id-1 div.sk-text-repr-fallback {display: none;}</style><div id=\"sk-container-id-1\" class=\"sk-top-container\"><div class=\"sk-text-repr-fallback\"><pre>LinearRegression()</pre><b>In a Jupyter environment, please rerun this cell to show the HTML representation or trust the notebook. <br />On GitHub, the HTML representation is unable to render, please try loading this page with nbviewer.org.</b></div><div class=\"sk-container\" hidden><div class=\"sk-item\"><div class=\"sk-estimator sk-toggleable\"><input class=\"sk-toggleable__control sk-hidden--visually\" id=\"sk-estimator-id-1\" type=\"checkbox\" checked><label for=\"sk-estimator-id-1\" class=\"sk-toggleable__label sk-toggleable__label-arrow\">LinearRegression</label><div class=\"sk-toggleable__content\"><pre>LinearRegression()</pre></div></div></div></div></div>"
            ]
          },
          "metadata": {},
          "execution_count": 9
        }
      ]
    },
    {
      "cell_type": "markdown",
      "source": [
        "8. Print the R2 score and the RMSE of the model on the train, validation, and test datasets."
      ],
      "metadata": {
        "id": "PKa5Qq-d_HrB"
      }
    },
    {
      "cell_type": "code",
      "source": [
        "print('train score: ', linear_model.score(train_X, train_y),\n",
        "      '\\nvalidation score: ', linear_model.score(val_X, val_y),\n",
        "      '\\ntest score: ', linear_model.score(test_X, test_y))\n",
        "print('train RMSE: ',\n",
        "      mean_squared_error(linear_model.predict(train_X), train_y),\n",
        "      '\\nvalidation RMSE: ',\n",
        "      mean_squared_error(linear_model.predict(val_X), val_y),\n",
        "      '\\ntest RMSE: ',\n",
        "      mean_squared_error(linear_model.predict(test_X), test_y))"
      ],
      "metadata": {
        "colab": {
          "base_uri": "https://localhost:8080/"
        },
        "id": "WiK1uO8W-38h",
        "outputId": "3ef071f0-d12b-4696-dea3-0e412dfbdbb6"
      },
      "execution_count": 10,
      "outputs": [
        {
          "output_type": "stream",
          "name": "stdout",
          "text": [
            "train score:  0.9287072840354756 \n",
            "validation score:  0.9238845251967255 \n",
            "test score:  0.9333918854821254\n",
            "train RMSE:  20.732519659228682 \n",
            "validation RMSE:  22.820591843766213 \n",
            "test RMSE:  19.023390952574694\n"
          ]
        }
      ]
    },
    {
      "cell_type": "code",
      "source": [],
      "metadata": {
        "id": "z9YwWCbv_LKI"
      },
      "execution_count": 10,
      "outputs": []
    }
  ]
}